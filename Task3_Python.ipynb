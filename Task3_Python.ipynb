{
  "nbformat": 4,
  "nbformat_minor": 0,
  "metadata": {
    "colab": {
      "provenance": [],
      "include_colab_link": true
    },
    "kernelspec": {
      "name": "python3",
      "display_name": "Python 3"
    },
    "language_info": {
      "name": "python"
    }
  },
  "cells": [
    {
      "cell_type": "markdown",
      "metadata": {
        "id": "view-in-github",
        "colab_type": "text"
      },
      "source": [
        "<a href=\"https://colab.research.google.com/github/muthamlikitha/Elitetech-intern/blob/main/Task3_Python.ipynb\" target=\"_parent\"><img src=\"https://colab.research.google.com/assets/colab-badge.svg\" alt=\"Open In Colab\"/></a>"
      ]
    },
    {
      "cell_type": "markdown",
      "source": [
        "# Task 3:\n",
        " AUTOMATED REPORT\n",
        " GENERATION\n",
        " DEVELOP A SCRIPT THAT READS DATA FROM\n",
        " A FILE, ANALYZES IT, AND GENERATES A\n",
        " FORMATTED PDF REPORT USING LIBRARIES\n",
        " LIKE FPDF OR REPORTLAB.\n",
        " DELIVERABLE: A SCRIPT AND A SAMPLE\n",
        " REPORT"
      ],
      "metadata": {
        "id": "QuLV-SeVVEC1"
      }
    },
    {
      "cell_type": "code",
      "source": [
        "%pip install reportlab"
      ],
      "metadata": {
        "colab": {
          "base_uri": "https://localhost:8080/"
        },
        "id": "PZk5sXiIU9bs",
        "outputId": "1a4dbc71-b1b6-4d01-caf4-dd0f9029a75c"
      },
      "execution_count": null,
      "outputs": [
        {
          "output_type": "stream",
          "name": "stdout",
          "text": [
            "Requirement already satisfied: reportlab in /usr/local/lib/python3.12/dist-packages (4.4.4)\n",
            "Requirement already satisfied: pillow>=9.0.0 in /usr/local/lib/python3.12/dist-packages (from reportlab) (11.3.0)\n",
            "Requirement already satisfied: charset-normalizer in /usr/local/lib/python3.12/dist-packages (from reportlab) (3.4.3)\n"
          ]
        }
      ]
    },
    {
      "cell_type": "code",
      "execution_count": null,
      "metadata": {
        "colab": {
          "base_uri": "https://localhost:8080/",
          "height": 104
        },
        "id": "I7gi0qI4TY6u",
        "outputId": "61b88282-1d60-415c-e58d-9b5088ed3858"
      },
      "outputs": [
        {
          "output_type": "stream",
          "name": "stdout",
          "text": [
            "No suitable categorical column found for pie chart.\n",
            "✅ PDF report generated successfully: final_report.pdf\n",
            "📊 Charts saved as: bar_chart.png, line_chart.png, pie_chart.png (if created)\n"
          ]
        },
        {
          "output_type": "display_data",
          "data": {
            "text/plain": [
              "<Figure size 1000x600 with 0 Axes>"
            ]
          },
          "metadata": {}
        },
        {
          "output_type": "display_data",
          "data": {
            "text/plain": [
              "<Figure size 1000x600 with 0 Axes>"
            ]
          },
          "metadata": {}
        }
      ],
      "source": [
        "# 📘 Automated Report Generator\n",
        "# This program reads data from a CSV file, analyzes it,\n",
        "# creates charts, and saves everything in a PDF report.\n",
        "\n",
        "# Required libraries\n",
        "import pandas as pd\n",
        "import matplotlib.pyplot as plt\n",
        "from reportlab.pdfgen import canvas\n",
        "from reportlab.lib.pagesizes import A4\n",
        "\n",
        "# -------------------------------\n",
        "# STEP 1: READ THE CSV FILE\n",
        "# -------------------------------\n",
        "# You can replace this with your own file name, e.g., by uploading a file.\n",
        "# For now, we'll use a sample dataset available in Colab.\n",
        "file_name = \"/content/sample_data/california_housing_train.csv\"\n",
        "\n",
        "# Read the CSV file using pandas\n",
        "try:\n",
        "    data = pd.read_csv(file_name)\n",
        "except FileNotFoundError:\n",
        "    print(f\"Error: The file '{file_name}' was not found.\")\n",
        "    print(\"Please upload your CSV file or specify the correct file path.\")\n",
        "    # Exit the script or handle the error appropriately\n",
        "    exit()\n",
        "\n",
        "\n",
        "# -------------------------------\n",
        "# STEP 2: BASIC DATA ANALYSIS\n",
        "# -------------------------------\n",
        "# 'describe()' gives summary like mean, min, max, etc.\n",
        "summary = data.describe()\n",
        "\n",
        "# -------------------------------\n",
        "# STEP 3: CREATE VISUALIZATIONS\n",
        "# -------------------------------\n",
        "\n",
        "# 1️⃣ Bar Chart\n",
        "plt.figure(figsize=(10, 6))\n",
        "try:\n",
        "    # Select a few numerical columns for visualization\n",
        "    numerical_cols = data.select_dtypes(include=['number']).columns\n",
        "    if not numerical_cols.empty:\n",
        "        data[numerical_cols].head(10).plot(kind='bar')\n",
        "        plt.title(\"Bar Chart of First 10 Rows (Numerical Columns)\")\n",
        "        plt.tight_layout()\n",
        "        plt.savefig(\"bar_chart.png\")\n",
        "        plt.close()\n",
        "    else:\n",
        "        print(\"No numerical columns found for bar chart.\")\n",
        "except Exception as e:\n",
        "    print(f\"Could not create bar chart: {e}\")\n",
        "\n",
        "\n",
        "# 2️⃣ Line Chart\n",
        "plt.figure(figsize=(10, 6))\n",
        "try:\n",
        "    if not numerical_cols.empty:\n",
        "        data[numerical_cols].head(10).plot(kind='line', marker='o')\n",
        "        plt.title(\"Line Chart of First 10 Rows (Numerical Columns)\")\n",
        "        plt.tight_layout()\n",
        "        plt.savefig(\"line_chart.png\")\n",
        "        plt.close()\n",
        "    else:\n",
        "         print(\"No numerical columns found for line chart.\")\n",
        "except Exception as e:\n",
        "    print(f\"Could not create line chart: {e}\")\n",
        "\n",
        "\n",
        "# 3️⃣ Pie Chart (if a suitable column exists)\n",
        "# We will try to find a column with a reasonable number of unique values (e.g., less than 20)\n",
        "# to create a pie chart.\n",
        "suitable_cols = [col for col in data.columns if data[col].nunique() < 20 and data[col].dtype == 'object']\n",
        "\n",
        "if suitable_cols:\n",
        "    try:\n",
        "        plt.figure(figsize=(7, 7))\n",
        "        data[suitable_cols[0]].value_counts().plot.pie(autopct=\"%1.1f%%\")\n",
        "        plt.title(f\"Distribution of {suitable_cols[0]}\")\n",
        "        plt.ylabel(\"\")  # hide y label\n",
        "        plt.savefig(\"pie_chart.png\")\n",
        "        plt.close()\n",
        "    except Exception as e:\n",
        "        print(f\"Could not create pie chart for column {suitable_cols[0]}: {e}\")\n",
        "else:\n",
        "    print(\"No suitable categorical column found for pie chart.\")\n",
        "\n",
        "\n",
        "# -------------------------------\n",
        "# STEP 4: CREATE PDF REPORT\n",
        "# -------------------------------\n",
        "pdf = canvas.Canvas(\"final_report.pdf\", pagesize=A4)\n",
        "pdf.setTitle(\"Automated Report\")\n",
        "\n",
        "# Title\n",
        "pdf.setFont(\"Helvetica-Bold\", 18)\n",
        "pdf.drawCentredString(A4[0]/2, 800, \"AUTOMATED DATA REPORT\")\n",
        "\n",
        "# Description\n",
        "pdf.setFont(\"Helvetica\", 12)\n",
        "pdf.drawString(50, 770, \"This report is automatically generated using Python.\")\n",
        "pdf.drawString(50, 755, \"It includes summary statistics and visualizations based on the provided data.\")\n",
        "\n",
        "# Summary Statistics Section\n",
        "pdf.setFont(\"Helvetica-Bold\", 14)\n",
        "pdf.drawString(50, 730, \"Summary Statistics:\")\n",
        "pdf.setFont(\"Courier\", 9) # Reduced font size for summary table\n",
        "\n",
        "# Print summary line by line\n",
        "y = 710\n",
        "# Convert summary to string and split into lines\n",
        "summary_lines = summary.to_string().split(\"\\n\")\n",
        "# Adjust y position based on the number of lines to avoid going off page\n",
        "if y - len(summary_lines) * 10 < 50: # Simple check to see if content fits\n",
        "    pdf.showPage()\n",
        "    y = 800\n",
        "    pdf.setFont(\"Helvetica-Bold\", 14)\n",
        "    pdf.drawString(50, y, \"Summary Statistics (Continued):\")\n",
        "    pdf.setFont(\"Courier\", 9)\n",
        "    y -= 20\n",
        "\n",
        "for line in summary_lines:\n",
        "    pdf.drawString(60, y, line)\n",
        "    y -= 10 # Reduced line spacing\n",
        "\n",
        "# Add a new page for charts\n",
        "pdf.showPage()\n",
        "pdf.setFont(\"Helvetica-Bold\", 16)\n",
        "pdf.drawCentredString(A4[0]/2, 800, \"Data Visualizations\")\n",
        "\n",
        "# Add images one by one\n",
        "image_y_start = 750\n",
        "image_spacing = 20\n",
        "image_height = 200\n",
        "image_width = 400\n",
        "\n",
        "images_to_add = []\n",
        "import os\n",
        "if os.path.exists(\"bar_chart.png\"): images_to_add.append(\"bar_chart.png\")\n",
        "if os.path.exists(\"line_chart.png\"): images_to_add.append(\"line_chart.png\")\n",
        "if os.path.exists(\"pie_chart.png\"): images_to_add.append(\"pie_chart.png\")\n",
        "\n",
        "current_y = image_y_start\n",
        "for img_path in images_to_add:\n",
        "    if current_y - image_height < 50: # Check if image fits on current page\n",
        "        pdf.showPage()\n",
        "        pdf.setFont(\"Helvetica-Bold\", 16)\n",
        "        pdf.drawCentredString(A4[0]/2, 800, \"Data Visualizations (Continued)\")\n",
        "        current_y = 750 # Reset y for new page\n",
        "    try:\n",
        "        pdf.drawImage(img_path, (A4[0] - image_width) / 2, current_y - image_height, width=image_width, height=image_height)\n",
        "        current_y -= (image_height + image_spacing) # Move down for next image\n",
        "    except Exception as e:\n",
        "        print(f\"Could not add image {img_path} to PDF: {e}\")\n",
        "\n",
        "\n",
        "# -------------------------------\n",
        "# STEP 5: COMPLETION MESSAGE\n",
        "# -------------------------------\n",
        "pdf.save() # Save the PDF with all content\n",
        "\n",
        "print(\"✅ PDF report generated successfully: final_report.pdf\")\n",
        "print(\"📊 Charts saved as: bar_chart.png, line_chart.png, pie_chart.png (if created)\")"
      ]
    }
  ]
}