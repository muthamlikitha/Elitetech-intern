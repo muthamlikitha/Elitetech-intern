{
  "nbformat": 4,
  "nbformat_minor": 0,
  "metadata": {
    "colab": {
      "provenance": [],
      "include_colab_link": true
    },
    "kernelspec": {
      "name": "python3",
      "display_name": "Python 3"
    },
    "language_info": {
      "name": "python"
    }
  },
  "cells": [
    {
      "cell_type": "markdown",
      "metadata": {
        "id": "view-in-github",
        "colab_type": "text"
      },
      "source": [
        "<a href=\"https://colab.research.google.com/github/muthamlikitha/Elitetech-intern/blob/main/Task2_Python.ipynb\" target=\"_parent\"><img src=\"https://colab.research.google.com/assets/colab-badge.svg\" alt=\"Open In Colab\"/></a>"
      ]
    },
    {
      "cell_type": "markdown",
      "source": [
        "# Task 2:\n",
        "AI CHATBOT WITH NLP\n",
        " BUILD A CHATBOT USING NATURAL\n",
        " LANGUAGE PROCESSING LIBRARIES LIKE NLTK\n",
        " OR SPACY, CAPABLE OF ANSWERING USER\n",
        " QUERIES.\n",
        " DELIVERABLE: A PYTHON SCRIPT AND A\n",
        " WORKING CHATBOT"
      ],
      "metadata": {
        "id": "T1hJH9AOW0Rs"
      }
    },
    {
      "cell_type": "code",
      "execution_count": null,
      "metadata": {
        "colab": {
          "base_uri": "https://localhost:8080/"
        },
        "id": "6OIybOKSmk31",
        "outputId": "dc032d05-92a7-464e-ad73-027fc7da2bb2"
      },
      "outputs": [
        {
          "output_type": "stream",
          "name": "stderr",
          "text": [
            "[nltk_data] Downloading package punkt to /root/nltk_data...\n",
            "[nltk_data]   Unzipping tokenizers/punkt.zip.\n"
          ]
        },
        {
          "output_type": "stream",
          "name": "stdout",
          "text": [
            "Hi! I am your chatbot. Type 'quit' to exit.\n",
            "You: hi\n",
            "ChatBot: Hello! How can I help you today?\n",
            "You: hello\n",
            "ChatBot: Hi there! What can I do for you?\n",
            "You: what is your name?\n",
            "ChatBot: I am your friendly chatbot.\n",
            "You: how are you?\n",
            "ChatBot: I am fine, thank you!\n",
            "You: who created you?\n",
            "ChatBot: I am made with love and Python.\n",
            "You: help\n",
            "ChatBot: Can you please rephrase?\n",
            "You: what your doing now?\n",
            "ChatBot: Can you please rephrase?\n",
            "You: .\n",
            "ChatBot: Interesting! Tell me more.\n",
            "You: quit\n",
            "ChatBot: Bye! Take care.\n"
          ]
        }
      ],
      "source": [
        "# chatbot.py\n",
        "import nltk\n",
        "import random\n",
        "import string\n",
        "from nltk.chat.util import Chat, reflections\n",
        "\n",
        "# Download required NLTK data\n",
        "nltk.download('punkt')\n",
        "\n",
        "# Define pairs of patterns and responses\n",
        "pairs = [\n",
        "    [\n",
        "        r\"hi|hello|hey\",\n",
        "        [\"Hello! How can I help you today?\", \"Hi there! What can I do for you?\"]\n",
        "    ],\n",
        "    [\n",
        "        r\"what is your name ?\",\n",
        "        [\"I am your friendly chatbot.\", \"You can call me ChatBot.\"]\n",
        "    ],\n",
        "    [\n",
        "        r\"how are you ?\",\n",
        "        [\"I'm doing great! How about you?\", \"I am fine, thank you!\"]\n",
        "    ],\n",
        "    [\n",
        "        r\"what can you do ?\",\n",
        "        [\"I can answer your questions, chat with you, and help you learn Python!\"]\n",
        "    ],\n",
        "    [\n",
        "        r\"who created you ?\",\n",
        "        [\"I was created by a Python programmer using NLTK.\", \"I am made with love and Python.\"]\n",
        "    ],\n",
        "    [\n",
        "        r\"(.*) your favorite (.*)?\",\n",
        "        [\"I love helping humans!\", \"I enjoy chatting with you!\"]\n",
        "    ],\n",
        "    [\n",
        "        r\"(.*) help (.*)?\",\n",
        "        [\"Sure, I can help you. Ask me anything!\", \"Of course! What do you need help with?\"]\n",
        "    ],\n",
        "    [\n",
        "        r\"quit\",\n",
        "        [\"Bye! Take care.\", \"Goodbye! Have a great day!\"]\n",
        "    ],\n",
        "    [\n",
        "        r\"(.*)\",\n",
        "        [\"Sorry, I didn't understand that.\", \"Can you please rephrase?\", \"Interesting! Tell me more.\"]\n",
        "    ]\n",
        "]\n",
        "\n",
        "# Create the chatbot\n",
        "chatbot = Chat(pairs, reflections)\n",
        "\n",
        "# Start conversation\n",
        "def start_chat():\n",
        "    print(\"Hi! I am your chatbot. Type 'quit' to exit.\")\n",
        "    while True:\n",
        "        user_input = input(\"You: \")\n",
        "        if user_input.lower() == \"quit\":\n",
        "            print(\"ChatBot: Bye! Take care.\")\n",
        "            break\n",
        "        response = chatbot.respond(user_input)\n",
        "        print(f\"ChatBot: {response}\")\n",
        "\n",
        "# Run chatbot\n",
        "if __name__ == \"__main__\":\n",
        "    start_chat()\n"
      ]
    }
  ]
}